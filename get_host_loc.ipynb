{
 "cells": [
  {
   "cell_type": "code",
   "execution_count": 3,
   "metadata": {},
   "outputs": [],
   "source": [
    "import pandas as pd\n",
    "import xml.etree.ElementTree as ET"
   ]
  },
  {
   "cell_type": "code",
   "execution_count": null,
   "metadata": {},
   "outputs": [],
   "source": []
  },
  {
   "cell_type": "code",
   "execution_count": null,
   "metadata": {},
   "outputs": [],
   "source": []
  },
  {
   "cell_type": "code",
   "execution_count": 6,
   "metadata": {},
   "outputs": [
    {
     "data": {
      "text/plain": [
       "array(['human', 'horse', 'brown rat', 'rodent', 'cattle', 'Leptospirosis',\n",
       "       'long nose bandicoot', 'rat', 'lesser ricefield rat', 'reed vole',\n",
       "       'striped field mouse', \"Chevrier's field mouse\",\n",
       "       'Yellow-breasted rat', 'frog', 'pig', 'bovine', 'house mouse',\n",
       "       'Brazilian guinea pig', 'dog', ' capybara ', 'NA', 'Guinea-Pig',\n",
       "       'not applicable', 'ovis', 'Unknown'], dtype=object)"
      ]
     },
     "execution_count": 6,
     "metadata": {},
     "output_type": "execute_result"
    }
   ],
   "source": [
    "path=\"/Users/rx32940/Desktop/pbio8350TermProject/\"\n",
    "\n",
    "main_table= pd.read_csv(path + \"Leptospira_interrogans.csv\")\n",
    "host_table = ET.parse(path + \"interrogans_meta.xml\")\n",
    "\n",
    "root = host_table.getroot() # get the root elem\n",
    "\n",
    "with_host=pd.DataFrame()\n",
    "with_loc=pd.DataFrame()\n",
    "\n",
    "for biosample in root.findall(\"BioSample\"):\n",
    "    biosample_acc = biosample.attrib[\"accession\"]\n",
    "    attributes=biosample.find(\"Attributes\").findall(\"Attribute\")\n",
    "    for atrib in attributes:\n",
    "        if atrib.attrib[\"attribute_name\"] == \"host\":\n",
    "            host = atrib.text\n",
    "            if host == \"Homo sapiens\":\n",
    "                host=\"human\"\n",
    "            if host == \"Equus ferus caballus\":\n",
    "                host=\"horse\"\n",
    "            if host == \"Rattus norvegicus\":\n",
    "                host=\"brown rat\"\n",
    "            if host == \"Rodentia\":\n",
    "                host=\"rodent\"\n",
    "            if host == \"Bos taurus\":\n",
    "                host = \"cattle\"\n",
    "            if host == \"Perameles nasuta\":\n",
    "                host = \"long nose bandicoot\"\n",
    "            if host == \"Rattus\":\n",
    "                host = \"rat\"\n",
    "            if host == \"Rattus losea\":\n",
    "                host = \"lesser ricefield rat\"\n",
    "            if host == \"Microtus fortis\":\n",
    "                host = \"reed vole\"\n",
    "            if host == \"Apodemus agrarius\":\n",
    "                host = \"striped field mouse\"\n",
    "            if host == \"Apodemus chevrieri\":\n",
    "                host = \"Chevrier's field mouse\"\n",
    "            if host == \"Rattus flavipectus\":\n",
    "                host = \"Yellow-breasted rat\"\n",
    "            if host == \"Sus scrofa domesticus\":\n",
    "                host = \"pig\"\n",
    "            if host == \"Mus musculus\":\n",
    "                host = \"house mouse\"\n",
    "            if host == \"swine\":\n",
    "                host = \"pig\"\n",
    "            if host == \"Cavia aperea\":\n",
    "                host = \"Brazilian guinea pig\"\n",
    "            if host == \"Canis lupus familiaris\":\n",
    "                host = \"dog\"\n",
    "            if host == \"Hydrochoerus hydrochaeris\":\n",
    "                host = \" capybara \"\n",
    "            if host == \"Canis lupus\":\n",
    "                host = \"dog\"\n",
    "            if host == \"Ovine\":\n",
    "                host = \"ovis\"\n",
    "            if host == \"Canicola\":\n",
    "                host = \"not applicable\"\n",
    "           \n",
    "            metadata=pd.DataFrame({\"Sample\":[biosample_acc],\n",
    "                              \"Host\":[host]})\n",
    "            with_host = with_host.append(metadata)\n",
    "        else:\n",
    "            host = \"\"\n",
    "        if atrib.attrib[\"attribute_name\"] == \"geo_loc_name\":\n",
    "            location=atrib.text\n",
    "            metadata=pd.DataFrame({\"Sample\":[biosample_acc],\n",
    "                              \"Location\":[location]})\n",
    "            with_loc= with_loc.append(metadata)\n",
    "        else:\n",
    "            location=\"\"\n",
    "        \n",
    "        \n",
    "\n",
    "len(pd.unique(with_host[\"Host\"]))\n",
    "pd.unique(with_host[\"Host\"])\n",
    "# pd.unique(with_loc[\"Location\"])\n",
    "# with_host"
   ]
  },
  {
   "cell_type": "code",
   "execution_count": 14,
   "metadata": {},
   "outputs": [],
   "source": [
    "with_host.to_csv(path+\"host_only_interrogan.csv\",header=False,index=False)\n",
    "with_loc.to_csv(path+\"loc_only_interrogan.csv\",header=False,index=False)"
   ]
  },
  {
   "cell_type": "code",
   "execution_count": null,
   "metadata": {},
   "outputs": [],
   "source": []
  }
 ],
 "metadata": {
  "kernelspec": {
   "display_name": "Python 3",
   "language": "python",
   "name": "python3"
  },
  "language_info": {
   "codemirror_mode": {
    "name": "ipython",
    "version": 3
   },
   "file_extension": ".py",
   "mimetype": "text/x-python",
   "name": "python",
   "nbconvert_exporter": "python",
   "pygments_lexer": "ipython3",
   "version": "3.7.2"
  }
 },
 "nbformat": 4,
 "nbformat_minor": 2
}
